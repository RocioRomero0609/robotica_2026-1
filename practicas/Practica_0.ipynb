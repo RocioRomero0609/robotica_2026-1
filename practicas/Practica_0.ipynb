{
 "cells": [
  {
   "cell_type": "markdown",
   "id": "02d74389-3bb2-4acd-bc99-6143462fced9",
   "metadata": {},
   "source": [
    "##### Proyecto PAPIME PE110923 DESARROLLO DE UN LABORATORIO DE ROBOTICA REMOTO PARA REALIZAR PRACTICAS DE PROGRAMACION DE ALGORITMOS DE PLANEACION Y DE NAVEGACION EN BANCOS DE PRUEBA FISICOS\n",
    "\n",
    "# Nodos y Topicos\n",
    "\n",
    "## Objetivo\n",
    "\n",
    "Que los alimnos aprendan la estructura básica de los páquetes y el manejo de topicos y nodos en ROS 2\n",
    "\n",
    "\n",
    "\n",
    "# Previo\n",
    "\n",
    "El alumno debe investigar los siguientes puntos:\n",
    "\n",
    "1. Investigar sobre las distruciones de ROS 2\n",
    "2. Investigar como se estructura un paquete de ROS 2\n",
    "3. Investigar la definición de los nodos de ROS\n",
    "4. Investigar que un Topico\n",
    "\n",
    "\n",
    "\n",
    "\n"
   ]
  }
 ],
 "metadata": {
  "kernelspec": {
   "display_name": "Python 3 (ipykernel)",
   "language": "python",
   "name": "python3"
  },
  "language_info": {
   "codemirror_mode": {
    "name": "ipython",
    "version": 3
   },
   "file_extension": ".py",
   "mimetype": "text/x-python",
   "name": "python",
   "nbconvert_exporter": "python",
   "pygments_lexer": "ipython3",
   "version": "3.10.12"
  }
 },
 "nbformat": 4,
 "nbformat_minor": 5
}
